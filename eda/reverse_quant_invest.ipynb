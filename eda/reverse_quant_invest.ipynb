{
 "cells": [
  {
   "cell_type": "markdown",
   "metadata": {},
   "source": [
    "2. 📉 리버전 전략 (Mean Reversion)\n",
    "조건 예시:\n",
    "Z-score(log_return) < -2 → 매수\n",
    "\n",
    "Bollinger Band 하단 돌파 후 되돌림\n",
    "\n",
    "전략 이름:\n",
    "Bollinger Rebound 전략\n",
    "\n",
    "Z-score 리버전 전략"
   ]
  }
 ],
 "metadata": {
  "language_info": {
   "name": "python"
  }
 },
 "nbformat": 4,
 "nbformat_minor": 2
}
