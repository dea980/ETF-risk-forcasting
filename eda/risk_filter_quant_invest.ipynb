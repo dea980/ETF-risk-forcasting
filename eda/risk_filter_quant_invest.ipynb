{
 "cells": [
  {
   "cell_type": "markdown",
   "metadata": {},
   "source": [
    "4. 🛡️ 리스크 필터 기반 전략 (지금 하고 있는 방향)\n",
    "조건 예시:\n",
    "Volatility < 0.02 → 진입 허용\n",
    "\n",
    "Drawdown < -10% → 현금화\n",
    "\n",
    "Sharpe Ratio > 1.2 → 활성 전략만 운용\n",
    "\n",
    "전략 이름:\n",
    "리스크 필터 + 트렌드 전략\n",
    "\n",
    "변동성 기반 타이밍 전략"
   ]
  }
 ],
 "metadata": {
  "language_info": {
   "name": "python"
  }
 },
 "nbformat": 4,
 "nbformat_minor": 2
}
