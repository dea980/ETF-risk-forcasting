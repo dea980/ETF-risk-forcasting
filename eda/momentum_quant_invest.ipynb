{
 "cells": [
  {
   "cell_type": "markdown",
   "metadata": {},
   "source": [
    "3. 🔄 모멘텀 기반 ETF 로테이션 전략\n",
    "조건 예시:\n",
    "RSI > 60 & ROC > 5% → 상위 3개 ETF 선택\n",
    "\n",
    "매월 리밸런싱\n",
    "\n",
    "전략 이름:\n",
    "ETF 모멘텀 랭킹 전략\n",
    "\n",
    "Top-N Rotation 전략"
   ]
  }
 ],
 "metadata": {
  "language_info": {
   "name": "python"
  }
 },
 "nbformat": 4,
 "nbformat_minor": 2
}
