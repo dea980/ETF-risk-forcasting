{
 "cells": [
  {
   "cell_type": "markdown",
   "metadata": {},
   "source": [
    "1. 📈 트렌드 추종 전략 (Trend Following)\n",
    "조건 예시:\n",
    "SMA(20) > SMA(60) → 매수\n",
    "\n",
    "EMA 크로스오버, MACD > 0\n",
    "\n",
    "전략 이름:\n",
    "MA Crossover 전략\n",
    "\n",
    "MACD + RSI 상승 시 진입"
   ]
  }
 ],
 "metadata": {
  "language_info": {
   "name": "python"
  }
 },
 "nbformat": 4,
 "nbformat_minor": 2
}
